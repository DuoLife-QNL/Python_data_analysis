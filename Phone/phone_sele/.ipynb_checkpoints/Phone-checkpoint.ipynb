{
 "cells": [
  {
   "cell_type": "code",
   "execution_count": 3,
   "metadata": {},
   "outputs": [],
   "source": [
    "from selenium import webdriver\n",
    "from selenium.webdriver.common.keys import Keys\n",
    "from selenium.webdriver import Chrome\n",
    "\n",
    "driver = Chrome()\n",
    "driver.get(\"http://www.python.org\")\n",
    "assert \"Python\" in driver.title\n",
    "elem = driver.find_element_by_name(\"q\")\n",
    "elem.clear()\n",
    "elem.send_keys(\"pycon\")\n",
    "elem.send_keys(Keys.RETURN)\n",
    "assert \"No results found.\" not in driver.page_source\n",
    "driver.close()"
   ]
  },
  {
   "cell_type": "markdown",
   "metadata": {
    "collapsed": true
   },
   "source": [
    "part 1"
   ]
  },
  {
   "cell_type": "code",
   "execution_count": null,
   "metadata": {
    "collapsed": true
   },
   "outputs": [],
   "source": [
    "from selenium import webdriver\n",
    "from selenium.webdriver.chrome.options import Options\n",
    "import requests\n",
    "import pandas as pd\n",
    "import re\n",
    "import csv\n",
    "import time\n",
    "from lxml import etree\n",
    "\n",
    "path = r'C:\\Program Files (x86)\\Google\\Chrome\\Application\\chromedriver.exe'\n",
    "f = open('jingdong_link.csv', 'w', encoding='utf-8', newline='')\n",
    "data = csv.writer(f)\n",
    "data.writerow(['name', 'weblink'])\n",
    "driver = webdriver.Chrome(executable_path=path)\n",
    "# 建立driver对象\n",
    "js = \"var q=document.documentElement.scrollTop=10000\"\n",
    "i = 1\n",
    "weblink = []\n",
    "name = []\n",
    "while i <= 117:\n",
    "    web = \"https://search.jd.com/Search?keyword=%E6%89%8B%E6%9C%BA&enc=utf-8&qrst=1&rt=1&stop=1&vt=2&suggest=1.def.0.V11--12s0%2C20s0%2C38s0%2C97s0&wq=shoji&psort=3&page=\" + str(i) +\"&s=61&click=0\"\n",
    "    driver.get(web)\n",
    "    time.sleep(3)\n",
    "    driver.execute_script(js)\n",
    "    time.sleep(5)\n",
    "    html = driver.page_source\n",
    "    # get目标网址\n",
    "    html_path = etree.HTML(html)\n",
    "    name_list = html_path.xpath('//*[@id=\"J_goodsList\"]/ul/li/div/div[4]/a/em/text()[1]')\n",
    "    weblink_list = html_path.xpath('//*[@id=\"J_goodsList\"]/ul/li/div/div[4]/a/@href')\n",
    "    j = 0\n",
    "\n",
    "    for k in name_list:\n",
    "        name.append(k)\n",
    "        # weblink = weblink_list[j]\n",
    "        weblink.append(weblink_list[j])\n",
    "        # data.writerow([k, weblink])\n",
    "        print(k, weblink_list[j])\n",
    "        j += 1\n",
    "    i += 2\n",
    "driver.quit()\n",
    "# print(name)\n",
    "f.close()\n"
   ]
  },
  {
   "cell_type": "markdown",
   "metadata": {},
   "source": [
    "part 2"
   ]
  },
  {
   "cell_type": "code",
   "execution_count": null,
   "metadata": {
    "collapsed": true
   },
   "outputs": [],
   "source": [
    "path = r'C:\\Program Files (x86)\\Google\\Chrome\\Application\\chromedriver.exe'\n",
    "fileNameStr = 'jingdong_link.csv'\n",
    "df = pd.read_csv(fileNameStr, encoding='utf-8')\n",
    "js = \"var q=document.documentElement.scrollTop=10000\"\n",
    "driver = webdriver.Chrome(executable_path=path)\n",
    "i = 0\n",
    "while 0 <= i <= 10:\n",
    "    web = \"https:\" + df['weblink'][i] +\"#crumb-wrap\"\n",
    "    driver.get(web)\n",
    "    time.sleep(5)\n",
    "    driver.find_elements_by_xpath('//*[@id=\"choose-attr-2\"]/div[2]/div[1]')[0].click()\n",
    "    driver.refresh()\n",
    "    driver.execute_script(js)\n",
    "    driver.find_elements_by_xpath('//*[@id=\"detail\"]/div[1]/ul/闪电[5]')[0].click()\n",
    "    time.sleep(5)\n",
    "    empty_flag = 1\n",
    "    if driver.find_elements_by_xpath('//*[@id=\"comment\"]/div[2]/div[2]/div[1]/ul/li[9]/label') != []:\n",
    "        driver.find_elements_by_xpath('//*[@id=\"comment\"]/div[2]/div[2]/div[1]/ul/li[9]/label')[0].click()\n",
    "        empty_flag = 0\n",
    "    time.sleep(5)\n",
    "    html = driver.page_source\n",
    "    # driver.quit()\n",
    "    html_path = etree.HTML(html)\n",
    "    nothing = []\n",
    "    if empty_flag == 0:\n",
    "        comment = html_path.xpath('//*[@id=\"comment\"]/div[2]/div[2]/div[1]/ul/li[1]/a/em/text()')\n",
    "        for j in comment:\n",
    "            print(j)\n",
    "    else:\n",
    "        print(nothing)\n",
    "    i += 1\n"
   ]
  }
 ],
 "metadata": {
  "kernelspec": {
   "display_name": "Python 3",
   "language": "python",
   "name": "python3"
  },
  "language_info": {
   "codemirror_mode": {
    "name": "ipython",
    "version": 3
   },
   "file_extension": ".py",
   "mimetype": "text/x-python",
   "name": "python",
   "nbconvert_exporter": "python",
   "pygments_lexer": "ipython3",
   "version": "3.6.2"
  }
 },
 "nbformat": 4,
 "nbformat_minor": 2
}
